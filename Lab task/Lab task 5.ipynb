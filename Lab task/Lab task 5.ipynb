{
 "cells": [
  {
   "cell_type": "markdown",
   "id": "ba0eab29",
   "metadata": {},
   "source": [
    "\n",
    "# DFS with stack and node \n"
   ]
  },
  {
   "cell_type": "code",
   "execution_count": 3,
   "id": "6021bb69",
   "metadata": {},
   "outputs": [
    {
     "name": "stdout",
     "output_type": "stream",
     "text": [
      "1\n",
      "2\n",
      "4\n",
      "5\n",
      "3\n"
     ]
    }
   ],
   "source": [
    "class Node:\n",
    "    def __init__(self, value):\n",
    "        self.value = value\n",
    "        self.neighbors = []\n",
    "\n",
    "def dfs_with_stack(start_node):\n",
    "    visited = set()  \n",
    "    stack = [start_node]\n",
    "    \n",
    "    while stack:\n",
    "        current = stack.pop()  \n",
    "        if current not in visited:\n",
    "            print(current.value)  \n",
    "            visited.add(current)\n",
    "        \n",
    "            for neighbor in reversed(current.neighbors):\n",
    "                if neighbor not in visited:\n",
    "                    stack.append(neighbor)\n",
    "\n",
    "\n",
    "node1 = Node(1)\n",
    "node2 = Node(2)\n",
    "node3 = Node(3)\n",
    "node4 = Node(4)\n",
    "node5 = Node(5)\n",
    "\n",
    "node1.neighbors = [node2, node3]\n",
    "node2.neighbors = [node4, node5]\n",
    "\n",
    "dfs_with_stack(node1)\n"
   ]
  },
  {
   "cell_type": "markdown",
   "id": "21862a33",
   "metadata": {},
   "source": [
    "# Reseach about \" inorder,preorder,postorder and implement in DFS\n"
   ]
  },
  {
   "cell_type": "code",
   "execution_count": 2,
   "id": "8c7192df",
   "metadata": {
    "scrolled": true
   },
   "outputs": [
    {
     "name": "stdout",
     "output_type": "stream",
     "text": [
      "Inorder Traversal:\n",
      "4 2 5 1 3 \n",
      "Preorder Traversal:\n",
      "1 2 4 5 3 \n",
      "Postorder Traversal:\n",
      "4 5 2 3 1 "
     ]
    }
   ],
   "source": [
    "class TreeNode:\n",
    "    def __init__(self, value):\n",
    "        self.value = value\n",
    "        self.left = None\n",
    "        self.right = None\n",
    "\n",
    "\n",
    "def inorder_traversal(root):\n",
    "    if root:\n",
    "        inorder_traversal(root.left)\n",
    "        print(root.value, end=\" \")\n",
    "        inorder_traversal(root.right)\n",
    "\n",
    "def preorder_traversal(root):\n",
    "    if root:\n",
    "        print(root.value, end=\" \")\n",
    "        preorder_traversal(root.left)\n",
    "        preorder_traversal(root.right)\n",
    "\n",
    "\n",
    "def postorder_traversal(root):\n",
    "    if root:\n",
    "        postorder_traversal(root.left)\n",
    "        postorder_traversal(root.right)\n",
    "        print(root.value, end=\" \")\n",
    "\n",
    "\n",
    "root = TreeNode(1)\n",
    "root.left = TreeNode(2)\n",
    "root.right = TreeNode(3)\n",
    "root.left.left = TreeNode(4)\n",
    "root.left.right = TreeNode(5)\n",
    "\n",
    "\n",
    "print(\"Inorder Traversal:\")\n",
    "inorder_traversal(root)\n",
    "print(\"\\nPreorder Traversal:\")\n",
    "preorder_traversal(root)\n",
    "print(\"\\nPostorder Traversal:\")\n",
    "postorder_traversal(root)\n"
   ]
  },
  {
   "cell_type": "code",
   "execution_count": null,
   "id": "e38a3505",
   "metadata": {},
   "outputs": [],
   "source": []
  }
 ],
 "metadata": {
  "kernelspec": {
   "display_name": "Python 3 (ipykernel)",
   "language": "python",
   "name": "python3"
  },
  "language_info": {
   "codemirror_mode": {
    "name": "ipython",
    "version": 3
   },
   "file_extension": ".py",
   "mimetype": "text/x-python",
   "name": "python",
   "nbconvert_exporter": "python",
   "pygments_lexer": "ipython3",
   "version": "3.11.5"
  }
 },
 "nbformat": 4,
 "nbformat_minor": 5
}
