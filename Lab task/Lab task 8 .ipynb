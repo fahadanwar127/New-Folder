{
 "cells": [
  {
   "cell_type": "markdown",
   "id": "93b82c60",
   "metadata": {},
   "source": [
    "# Min Max Alogrithm"
   ]
  },
  {
   "cell_type": "code",
   "execution_count": 3,
   "id": "1466baa9",
   "metadata": {},
   "outputs": [
    {
     "name": "stdout",
     "output_type": "stream",
     "text": [
      "Best move for X is: (0, 2)\n"
     ]
    }
   ],
   "source": [
    "import math\n",
    "\n",
    "PLAYER_X = 'X'\n",
    "PLAYER_O = 'O'\n",
    "\n",
    "def evaluate(board):\n",
    "    for row in range(3):\n",
    "        if board[row][0] == board[row][1] == board[row][2] != ' ':\n",
    "            return 1 if board[row][0] == PLAYER_X else -1\n",
    "\n",
    "    for col in range(3):\n",
    "        if board[0][col] == board[1][col] == board[2][col] != ' ':\n",
    "            return 1 if board[0][col] == PLAYER_X else -1\n",
    "\n",
    "    if board[0][0] == board[1][1] == board[2][2] != ' ':\n",
    "        return 1 if board[0][0] == PLAYER_X else -1\n",
    "\n",
    "    if board[0][2] == board[1][1] == board[2][0] != ' ':\n",
    "        return 1 if board[0][2] == PLAYER_X else -1\n",
    "\n",
    "    return 0  # No winner\n",
    "\n",
    "def is_full(board):\n",
    "    return all(cell != ' ' for row in board for cell in row)\n",
    "\n",
    "def minimax(board, depth, is_maximizing):\n",
    "    score = evaluate(board)\n",
    "\n",
    "    if score == 1:  \n",
    "        return score - depth\n",
    "    if score == -1:  \n",
    "        return score + depth\n",
    "    if is_full(board):\n",
    "        return 0 \n",
    "\n",
    "    if is_maximizing:\n",
    "        best_score = -math.inf\n",
    "        for row in range(3):\n",
    "            for col in range(3):\n",
    "                if board[row][col] == ' ':\n",
    "                    board[row][col] = PLAYER_X\n",
    "                    best_score = max(best_score, minimax(board, depth + 1, False))\n",
    "                    board[row][col] = ' '\n",
    "        return best_score\n",
    "    else:\n",
    "        best_score = math.inf\n",
    "        for row in range(3):\n",
    "            for col in range(3):\n",
    "                if board[row][col] == ' ':\n",
    "                    board[row][col] = PLAYER_O\n",
    "                    best_score = min(best_score, minimax(board, depth + 1, True))\n",
    "                    board[row][col] = ' '\n",
    "        return best_score\n",
    "\n",
    "def find_best_move(board):\n",
    "    best_value = -math.inf\n",
    "    best_move = (-1, -1)\n",
    "\n",
    "    for row in range(3):\n",
    "        for col in range(3):\n",
    "            if board[row][col] == ' ':\n",
    "                board[row][col] = PLAYER_X\n",
    "                move_value = minimax(board, 0, False)\n",
    "                board[row][col] = ' '\n",
    "                if move_value > best_value:\n",
    "                    best_value = move_value\n",
    "                    best_move = (row, col)\n",
    "\n",
    "    return best_move\n",
    "\n",
    "\n",
    "if __name__ == \"__main__\":\n",
    "    board = [[' ' for _ in range(3)] for _ in range(3)]\n",
    "    \n",
    "    board[0][0] = PLAYER_X  \n",
    "    board[1][1] = PLAYER_O  \n",
    "    board[0][1] = PLAYER_X \n",
    "    \n",
    "    move = find_best_move(board)\n",
    "    if move != (-1, -1):\n",
    "        print(f\"Best move for X is: {move}\")\n",
    "    else:\n",
    "        print(\"No valid moves available.\")"
   ]
  },
  {
   "cell_type": "code",
   "execution_count": null,
   "id": "4ad3829e",
   "metadata": {},
   "outputs": [],
   "source": []
  }
 ],
 "metadata": {
  "kernelspec": {
   "display_name": "Python 3 (ipykernel)",
   "language": "python",
   "name": "python3"
  },
  "language_info": {
   "codemirror_mode": {
    "name": "ipython",
    "version": 3
   },
   "file_extension": ".py",
   "mimetype": "text/x-python",
   "name": "python",
   "nbconvert_exporter": "python",
   "pygments_lexer": "ipython3",
   "version": "3.11.5"
  }
 },
 "nbformat": 4,
 "nbformat_minor": 5
}
