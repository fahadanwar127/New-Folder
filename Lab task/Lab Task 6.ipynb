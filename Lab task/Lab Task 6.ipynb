{
 "cells": [
  {
   "cell_type": "markdown",
   "id": "afc89584",
   "metadata": {},
   "source": [
    "# BFS without queue and without node"
   ]
  },
  {
   "cell_type": "code",
   "execution_count": 1,
   "id": "da5e3f58",
   "metadata": {},
   "outputs": [
    {
     "name": "stdout",
     "output_type": "stream",
     "text": [
      "A B C D E F "
     ]
    }
   ],
   "source": [
    "def bfs_without_queue(graph, start):\n",
    "    \n",
    "    visited = set()\n",
    "    queue = [start]\n",
    "\n",
    "    while queue:\n",
    "        current_node = queue.pop(0)  \n",
    "        if current_node not in visited:\n",
    "            visited.add(current_node)\n",
    "            print(current_node, end=\" \")  \n",
    "            \n",
    "            queue.extend([neighbor for neighbor in graph[current_node] if neighbor not in visited])\n",
    "graph = {\n",
    "    'A': ['B', 'C'],\n",
    "    'B': ['A', 'D', 'E'],\n",
    "    'C': ['A', 'F'],\n",
    "    'D': ['B'],\n",
    "    'E': ['B', 'F'],\n",
    "    'F': ['C', 'E']\n",
    "}\n",
    "\n",
    "\n",
    "bfs_without_queue(graph, 'A')\n"
   ]
  },
  {
   "cell_type": "markdown",
   "id": "09bd0f99",
   "metadata": {},
   "source": [
    "# BFS with queue and node"
   ]
  },
  {
   "cell_type": "code",
   "execution_count": 2,
   "id": "fa25dddb",
   "metadata": {},
   "outputs": [
    {
     "name": "stdout",
     "output_type": "stream",
     "text": [
      "A B C D E F "
     ]
    }
   ],
   "source": [
    "from collections import deque\n",
    "\n",
    "class Node:\n",
    "    def __init__(self, value):\n",
    "        self.value = value\n",
    "        self.children = []\n",
    "\n",
    "    def add_child(self, child):\n",
    "        self.children.append(child)\n",
    "\n",
    "def bfs_with_queue(root):\n",
    "    queue = deque([root])\n",
    "    visited = set()\n",
    "\n",
    "    while queue:\n",
    "        current_node = queue.popleft()\n",
    "        if current_node.value not in visited:\n",
    "            visited.add(current_node.value)\n",
    "            print(current_node.value, end=\" \")  \n",
    "            for child in current_node.children:\n",
    "                queue.append(child)\n",
    "\n",
    "\n",
    "a = Node('A')\n",
    "b = Node('B')\n",
    "c = Node('C')\n",
    "d = Node('D')\n",
    "e = Node('E')\n",
    "f = Node('F')\n",
    "\n",
    "\n",
    "a.add_child(b)\n",
    "a.add_child(c)\n",
    "b.add_child(d)\n",
    "b.add_child(e)\n",
    "c.add_child(f)\n",
    "e.add_child(f)\n",
    "\n",
    "\n",
    "bfs_with_queue(a)\n"
   ]
  },
  {
   "cell_type": "code",
   "execution_count": null,
   "id": "8e28fb3d",
   "metadata": {},
   "outputs": [],
   "source": []
  }
 ],
 "metadata": {
  "kernelspec": {
   "display_name": "Python 3 (ipykernel)",
   "language": "python",
   "name": "python3"
  },
  "language_info": {
   "codemirror_mode": {
    "name": "ipython",
    "version": 3
   },
   "file_extension": ".py",
   "mimetype": "text/x-python",
   "name": "python",
   "nbconvert_exporter": "python",
   "pygments_lexer": "ipython3",
   "version": "3.11.5"
  }
 },
 "nbformat": 4,
 "nbformat_minor": 5
}
