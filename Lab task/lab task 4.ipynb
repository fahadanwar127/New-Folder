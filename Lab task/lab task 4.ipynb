{
 "cells": [
  {
   "cell_type": "code",
   "execution_count": null,
   "metadata": {},
   "outputs": [
    {
     "name": "stdout",
     "output_type": "stream",
     "text": [
      "The card number 4539 1488 0343 6467 is valid.\n"
     ]
    }
   ],
   "source": [
    "def luhn_check(card_number):\n",
    "    card_number = ''.join(filter(str.isdigit, card_number))\n",
    "    digits = [int(d) for d in card_number]\n",
    "    total_sum = 0\n",
    "    reverse = False\n",
    "    for i in range(len(digits) - 1, -1, -1):\n",
    "        num = digits[i]\n",
    "        if reverse:\n",
    "            num *= 2\n",
    "            if num > 9:\n",
    "                num -= 9\n",
    "        total_sum += num\n",
    "        reverse = not reverse \n",
    "    return total_sum % 10 == 0\n",
    "card_number = \"4539 1488 0343 6467\"\n",
    "is_valid = luhn_check(card_number)\n",
    "print(f\"The card number {card_number} is {'valid' if is_valid else 'invalid'}.\")\n"
   ]
  },
  {
   "cell_type": "code",
   "execution_count": null,
   "metadata": {},
   "outputs": [],
   "source": [
    "def remove_punctuations(input_string):\n",
    "    punctuation_marks = '''!()-[]{};:'\"\\,<>./?@#$%^&*_~'''\n",
    "    return ''.join([char for char in input_string if char not in punctuation_marks])\n",
    "user_input = input(\"Enter a string: \")\n",
    "print(\"Original string:\", user_input)\n",
    "result = remove_punctuations(user_input)\n",
    "print(\"String without punctuations:\", result)\n",
    "\n"
   ]
  }
 ],
 "metadata": {
  "kernelspec": {
   "display_name": "Python 3",
   "language": "python",
   "name": "python3"
  },
  "language_info": {
   "codemirror_mode": {
    "name": "ipython",
    "version": 3
   },
   "file_extension": ".py",
   "mimetype": "text/x-python",
   "name": "python",
   "nbconvert_exporter": "python",
   "pygments_lexer": "ipython3",
   "version": "3.12.1"
  }
 },
 "nbformat": 4,
 "nbformat_minor": 2
}
