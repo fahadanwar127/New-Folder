{
 "cells": [
  {
   "cell_type": "markdown",
   "id": "323ea1d2",
   "metadata": {},
   "source": [
    "# A* algorithm \n"
   ]
  },
  {
   "cell_type": "code",
   "execution_count": 1,
   "id": "82945a2f",
   "metadata": {},
   "outputs": [
    {
     "name": "stdout",
     "output_type": "stream",
     "text": [
      "Path found: None\n"
     ]
    }
   ],
   "source": [
    "class Node:\n",
    "    def __init__(self, position, parent=None):\n",
    "        self.position = position  \n",
    "        self.parent = parent  \n",
    "        self.g = 0  \n",
    "        self.h = 0  \n",
    "        self.f = 0  \n",
    "\n",
    "def astar(start, goal, grid):\n",
    "    open_list = [] \n",
    "    closed_list = []  \n",
    "\n",
    "    start_node = Node(start)\n",
    "    goal_node = Node(goal)\n",
    "\n",
    "\n",
    "    open_list.append(start_node)\n",
    "\n",
    "    while open_list:\n",
    "\n",
    "        current_node = min(open_list, key=lambda node: node.f)\n",
    "\n",
    "        if current_node.position == goal_node.position:\n",
    "            path = []\n",
    "            while current_node:\n",
    "                path.append(current_node.position)\n",
    "                current_node = current_node.parent\n",
    "            return path[::-1]  \n",
    "\n",
    "        open_list.remove(current_node)\n",
    "        closed_list.append(current_node)\n",
    "\n",
    "        neighbors = [\n",
    "            (0, 1),  \n",
    "            (0, -1),  \n",
    "            (1, 0),  \n",
    "            (-1, 0),  \n",
    "        ]\n",
    "\n",
    "        for new_position in neighbors:\n",
    "            node_position = (current_node.position[0] + new_position[0],\n",
    "                             current_node.position[1] + new_position[1])\n",
    "\n",
    "            if (0 <= node_position[0] < len(grid)) and (0 <= node_position[1] < len(grid[0])):\n",
    "            \n",
    "                if grid[node_position[0]][node_position[1]] != 0:\n",
    "                    continue  \n",
    "\n",
    "                \n",
    "                neighbor_node = Node(node_position, current_node)\n",
    "\n",
    "                if neighbor_node in closed_list:\n",
    "                    continue\n",
    "\n",
    "                neighbor_node.g = current_node.g + 1  \n",
    "                neighbor_node.h = (goal_node.position[0] - neighbor_node.position[0]) + \\\n",
    "                                  (goal_node.position[1] - neighbor_node.position[1]) \n",
    "                neighbor_node.f = neighbor_node.g + neighbor_node.h\n",
    "\n",
    "            \n",
    "                if add_to_open(open_list, neighbor_node):\n",
    "                    open_list.append(neighbor_node)\n",
    "\n",
    "    return None  \n",
    "\n",
    "def add_to_open(open_list, neighbor_node):\n",
    "    for node in open_list:\n",
    "        if neighbor_node.position == node.position and neighbor_node.g >= node.g:\n",
    "            return False\n",
    "    return True\n",
    "\n",
    "\n",
    "if __name__ == \"__main__\":\n",
    "\n",
    "    grid = [\n",
    "        [1, 1, 1, 1, 1],\n",
    "        [1, 0, 0, 0, 1],\n",
    "        [1, 1, 1, 0, 1],\n",
    "        [1, 0, 0, 1, 1],\n",
    "        [1, 1, 1, 1, 1]\n",
    "    ]\n",
    "\n",
    "    start = (0, 0)  \n",
    "    goal = (4, 4)   \n",
    "\n",
    "    path = astar(start, goal, grid)\n",
    "    print(\"Path found:\", path)"
   ]
  },
  {
   "cell_type": "code",
   "execution_count": null,
   "id": "d218aa2a",
   "metadata": {},
   "outputs": [],
   "source": []
  }
 ],
 "metadata": {
  "kernelspec": {
   "display_name": "Python 3 (ipykernel)",
   "language": "python",
   "name": "python3"
  },
  "language_info": {
   "codemirror_mode": {
    "name": "ipython",
    "version": 3
   },
   "file_extension": ".py",
   "mimetype": "text/x-python",
   "name": "python",
   "nbconvert_exporter": "python",
   "pygments_lexer": "ipython3",
   "version": "3.11.5"
  }
 },
 "nbformat": 4,
 "nbformat_minor": 5
}
